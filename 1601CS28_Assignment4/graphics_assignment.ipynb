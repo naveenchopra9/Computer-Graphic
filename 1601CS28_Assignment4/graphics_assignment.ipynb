{
 "cells": [
  {
   "cell_type": "code",
   "execution_count": 6,
   "metadata": {},
   "outputs": [
    {
     "ename": "ModuleNotFoundError",
     "evalue": "No module named 'graphics'",
     "output_type": "error",
     "traceback": [
      "\u001b[0;31m---------------------------------------------------------------------------\u001b[0m",
      "\u001b[0;31mModuleNotFoundError\u001b[0m                       Traceback (most recent call last)",
      "\u001b[0;32m<ipython-input-6-34e78b9cc030>\u001b[0m in \u001b[0;36m<module>\u001b[0;34m()\u001b[0m\n\u001b[0;32m----> 1\u001b[0;31m \u001b[0;32mimport\u001b[0m \u001b[0mgraphics\u001b[0m\u001b[0;34m\u001b[0m\u001b[0m\n\u001b[0m\u001b[1;32m      2\u001b[0m \u001b[0mxc\u001b[0m \u001b[0;34m=\u001b[0m \u001b[0;36m985\u001b[0m\u001b[0;34m\u001b[0m\u001b[0m\n\u001b[1;32m      3\u001b[0m \u001b[0myc\u001b[0m \u001b[0;34m=\u001b[0m \u001b[0;36m540\u001b[0m\u001b[0;34m\u001b[0m\u001b[0m\n\u001b[1;32m      4\u001b[0m \u001b[0;34m\u001b[0m\u001b[0m\n\u001b[1;32m      5\u001b[0m \u001b[0;34m\u001b[0m\u001b[0m\n",
      "\u001b[0;31mModuleNotFoundError\u001b[0m: No module named 'graphics'"
     ]
    }
   ],
   "source": [
    "\n",
    "from graphics import *\n",
    "xc = 985\n",
    "\n",
    "yc = 540\n",
    "\n",
    " \n",
    "\n",
    "def draw_pixel(window, x, y):\n",
    "    x=x*1.5\n",
    "    y=y*2.5+5\n",
    "    window.plot(xc+x, yc+y, 'black')\n",
    "    window.plot(xc+x, yc-y, 'black')\n",
    "    window.plot(xc+y, yc+x, 'black')\n",
    "    window.plot(xc+y, yc-x, 'black')\n",
    "    window.plot(xc-x, yc-y, 'black')\n",
    "    window.plot(xc-y, yc-x, 'black') \n",
    "    window.plot(xc-x, yc+y, 'black')\n",
    "    window.plot(xc-y, yc+x, 'black')\n",
    "\n",
    " \n",
    "\n",
    " \n",
    "\n",
    "def drawCircle(window, r):\n",
    "\n",
    " \n",
    "    x = 0\n",
    "\n",
    " \n",
    "    y = r\n",
    "\n",
    " \n",
    "    p = 1 - r\n",
    "\n",
    " \n",
    "\n",
    " \n",
    "    draw_pixel(window, x, y)\n",
    "\n",
    " \n",
    "\n",
    " \n",
    "    while x <= y:\n",
    "\n",
    " \n",
    "        if (p < 0):\n",
    "\n",
    " \n",
    "            p = p + 2 * x + 3\n",
    "\n",
    " \n",
    "        else:\n",
    "\n",
    " \n",
    "            p = p + 2 * (x - y) + 5\n",
    "\n",
    " \n",
    "            y-=1\n",
    "\n",
    " \n",
    "\n",
    " \n",
    "        x+=1\n",
    "\n",
    " \n",
    "\n",
    " \n",
    "        draw_pixel(window, x, y)\n",
    "\n",
    " \n",
    "\n",
    " \n",
    "    window.getMouse()\n",
    "\n",
    " \n",
    "    window.close()\n",
    "\n",
    " \n",
    "\n",
    "window = GraphWin(\"Circle\", 1920, 1080)\n",
    "\n",
    "window.setBackground('white')\n",
    "\n",
    " \n",
    "\n",
    "radius = 100\n",
    "\n",
    " \n",
    "\n",
    "drawCircle(window, radius)\n",
    "\n"
   ]
  },
  {
   "cell_type": "code",
   "execution_count": 2,
   "metadata": {},
   "outputs": [
    {
     "data": {
      "text/plain": [
       "Rectangle(Point(200.0, 100.0), Point(100.0, 200.0))"
      ]
     },
     "execution_count": 2,
     "metadata": {},
     "output_type": "execute_result"
    }
   ],
   "source": [
    "from graphics import *\n",
    "window = GraphWin(\"Circle\", 1920, 1080)\n",
    "\n",
    "rect = Rectangle(Point(200, 100), Point(100, 200))\n",
    "rect.draw(window)"
   ]
  },
  {
   "cell_type": "code",
   "execution_count": 51,
   "metadata": {},
   "outputs": [],
   "source": [
    "import PIL.ImageDraw as ImageDraw\n",
    "import PIL.Image as Image\n",
    "\n",
    "\n",
    "\n",
    "draw = ImageDraw.Draw(image)\n",
    "\n",
    "# points = ((1,1), (2,1), (2,2), (1,2), (0.5,1.5))\n",
    "\n",
    "\n",
    "draw.polygon((points), fill=200)\n",
    "\n",
    "image.show()"
   ]
  },
  {
   "cell_type": "code",
   "execution_count": 63,
   "metadata": {},
   "outputs": [
    {
     "name": "stdout",
     "output_type": "stream",
     "text": [
      "[[1 0]\n",
      " [2 1]]\n"
     ]
    }
   ],
   "source": [
    "import numpy as np\n",
    "\n",
    "print(w)"
   ]
  },
  {
   "cell_type": "code",
   "execution_count": 70,
   "metadata": {},
   "outputs": [
    {
     "data": {
      "text/plain": [
       "<matplotlib.image.AxesImage at 0x158ddca7278>"
      ]
     },
     "execution_count": 70,
     "metadata": {},
     "output_type": "execute_result"
    },
    {
     "data": {
      "image/png": "[encoded data removed]",
      "text/plain": [
       "<Figure size 432x288 with 1 Axes>"
      ]
     },
     "metadata": {
      "needs_background": "light"
     },
     "output_type": "display_data"
    }
   ],
   "source": [
    "#shear\n",
    "%matplotlib inline \n",
    "f=()\n",
    "points = ((100, 100), (200, 100), (200, 200), (100, 200))\n",
    "w=np.array([[1,0],[2,1]])\n",
    "for i in points:\n",
    "    a=i[0]\n",
    "    b=i[1]\n",
    "    z=np.array([[a],[b]])\n",
    "    transformed=np.dot(w,z)    \n",
    "    z=[transformed[0][0],transformed[1][0]]\n",
    "\n",
    "    \n",
    "    z=tuple(z)\n",
    "    f=f+z\n",
    "image = Image.new(\"RGB\", (1640, 1480))\n",
    "draw = ImageDraw.Draw(image)\n",
    "draw.polygon((f), fill=200)\n",
    "import matplotlib.pyplot as plt\n",
    "plt.imshow(image)\n",
    "    "
   ]
  },
  {
   "cell_type": "code",
   "execution_count": 71,
   "metadata": {},
   "outputs": [
    {
     "data": {
      "text/plain": [
       "<matplotlib.image.AxesImage at 0x158ddd08320>"
      ]
     },
     "execution_count": 71,
     "metadata": {},
     "output_type": "execute_result"
    },
    {
     "data": {
      "image/png": "[encoded data removed]",
      "text/plain": [
       "<Figure size 432x288 with 1 Axes>"
      ]
     },
     "metadata": {
      "needs_background": "light"
     },
     "output_type": "display_data"
    }
   ],
   "source": [
    "#scaling\n",
    "%matplotlib inline \n",
    "f=()\n",
    "points = ((100, 100), (200, 100), (200, 200), (100, 200))\n",
    "w=np.array([[3,0],[0,3]])\n",
    "for i in points:\n",
    "    a=i[0]\n",
    "    b=i[1]\n",
    "    z=np.array([[a],[b]])\n",
    "    transformed=np.dot(w,z)    \n",
    "    z=[transformed[0][0],transformed[1][0]]\n",
    "\n",
    "    \n",
    "    z=tuple(z)\n",
    "    f=f+z\n",
    "image = Image.new(\"RGB\", (1640, 1480))\n",
    "draw = ImageDraw.Draw(image)\n",
    "draw.polygon((f), fill=200)\n",
    "import matplotlib.pyplot as plt\n",
    "plt.imshow(image)"
   ]
  },
  {
   "cell_type": "code",
   "execution_count": 77,
   "metadata": {},
   "outputs": [
    {
     "data": {
      "text/plain": [
       "<matplotlib.image.AxesImage at 0x158e1d5c080>"
      ]
     },
     "execution_count": 77,
     "metadata": {},
     "output_type": "execute_result"
    },
    {
     "data": {
      "image/png": "[encoded data removed]",
      "text/plain": [
       "<Figure size 432x288 with 1 Axes>"
      ]
     },
     "metadata": {
      "needs_background": "light"
     },
     "output_type": "display_data"
    }
   ],
   "source": [
    "#translation\n",
    "%matplotlib inline \n",
    " \n",
    "f=()\n",
    "points = ((100, 100), (200, 100), (200, 200), (100, 200))\n",
    "w=np.array([[3,0],[0,3]])\n",
    "for i in points:\n",
    "    a=i[0]+100\n",
    "    b=i[1]+200\n",
    "    z=np.array([[a],[b]])\n",
    "    transformed=np.dot(w,z)    \n",
    "    z=[transformed[0][0],transformed[1][0]]\n",
    "\n",
    "    \n",
    "    z=tuple(z)\n",
    "    f=f+z\n",
    "image = Image.new(\"RGB\", (1640, 1480))\n",
    "draw = ImageDraw.Draw(image)\n",
    "draw.polygon((f), fill=200)\n",
    "import matplotlib.pyplot as plt\n",
    "plt.imshow(image)"
   ]
  },
  {
   "cell_type": "code",
   "execution_count": 88,
   "metadata": {},
   "outputs": [
    {
     "data": {
      "text/plain": [
       "<matplotlib.image.AxesImage at 0x158e211ee48>"
      ]
     },
     "execution_count": 88,
     "metadata": {},
     "output_type": "execute_result"
    },
    {
     "data": {
      "image/png": "[encoded data removed]",
      "text/plain": [
       "<Figure size 432x288 with 1 Axes>"
      ]
     },
     "metadata": {
      "needs_background": "light"
     },
     "output_type": "display_data"
    }
   ],
   "source": [
    "%matplotlib inline \n",
    " \n",
    "f=()\n",
    "points = ((100, 100), (200, 100), (200, 200), (100, 200))\n",
    "w=np.array([[3,0],[0,3]])\n",
    "for i in points:\n",
    "    a=i[0]+100\n",
    "    b=i[1]+200\n",
    "    z=np.array([[a],[b]])\n",
    "    transformed=np.dot(w,z)    \n",
    "    z=[transformed[0][0],transformed[1][0]]\n",
    "\n",
    "    \n",
    "    z=tuple(z)\n",
    "    f=f+z\n",
    "image = Image.new(\"RGB\", (1640, 1480))\n",
    "draw = ImageDraw.Draw(image)\n",
    "draw.polygon((f), fill=200)\n",
    "import matplotlib.pyplot as plt\n",
    "plt.imshow(image)"
   ]
  },
  {
   "cell_type": "code",
   "execution_count": null,
   "metadata": {},
   "outputs": [],
   "source": []
  }
 ],
 "metadata": {
  "kernelspec": {
   "display_name": "Python 3",
   "language": "python",
   "name": "python3"
  },
  "language_info": {
   "codemirror_mode": {
    "name": "ipython",
    "version": 3
   },
   "file_extension": ".py",
   "mimetype": "text/x-python",
   "name": "python",
   "nbconvert_exporter": "python",
   "pygments_lexer": "ipython3",
   "version": "3.6.5"
  }
 },
 "nbformat": 4,
 "nbformat_minor": 2
}
